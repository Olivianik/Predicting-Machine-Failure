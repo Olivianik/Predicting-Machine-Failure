{
 "cells": [
  {
   "cell_type": "markdown",
   "id": "987fc50a",
   "metadata": {
    "papermill": {
     "duration": 0.004326,
     "end_time": "2023-06-26T17:28:22.522751",
     "exception": false,
     "start_time": "2023-06-26T17:28:22.518425",
     "status": "completed"
    },
    "tags": []
   },
   "source": [
    "# Binary Classification of Machine Failures"
   ]
  },
  {
   "cell_type": "markdown",
   "id": "a254766b",
   "metadata": {
    "papermill": {
     "duration": 0.003481,
     "end_time": "2023-06-26T17:28:22.530299",
     "exception": false,
     "start_time": "2023-06-26T17:28:22.526818",
     "status": "completed"
    },
    "tags": []
   },
   "source": [
    "About XGBoost (Extreme Gradient Boosting):\n",
    "\n",
    "XGBoost is a high-performance gradient boosting library optimized for both fast execution speed and model performance.\n",
    "This algorithm is an ensemble method that works on decision trees and obtains results by combining the predictions of multiple trees.\n",
    "It also implements a gradient boosting method that continuously improves model performance by iteratively working on errors."
   ]
  },
  {
   "cell_type": "code",
   "execution_count": 1,
   "id": "660e0af0",
   "metadata": {
    "execution": {
     "iopub.execute_input": "2023-06-26T17:28:22.540129Z",
     "iopub.status.busy": "2023-06-26T17:28:22.539265Z",
     "iopub.status.idle": "2023-06-26T17:28:24.293882Z",
     "shell.execute_reply": "2023-06-26T17:28:24.292713Z"
    },
    "papermill": {
     "duration": 1.763136,
     "end_time": "2023-06-26T17:28:24.297041",
     "exception": false,
     "start_time": "2023-06-26T17:28:22.533905",
     "status": "completed"
    },
    "tags": []
   },
   "outputs": [],
   "source": [
    "import pandas as pd\n",
    "import numpy as np\n",
    "import matplotlib.pyplot as plt\n",
    "import seaborn as sns\n",
    "from sklearn.model_selection import train_test_split\n",
    "from sklearn.metrics import roc_auc_score\n",
    "from xgboost import XGBClassifier"
   ]
  },
  {
   "cell_type": "code",
   "execution_count": 2,
   "id": "b521c7a4",
   "metadata": {
    "execution": {
     "iopub.execute_input": "2023-06-26T17:28:24.306522Z",
     "iopub.status.busy": "2023-06-26T17:28:24.306085Z",
     "iopub.status.idle": "2023-06-26T17:28:24.792803Z",
     "shell.execute_reply": "2023-06-26T17:28:24.791823Z"
    },
    "papermill": {
     "duration": 0.494271,
     "end_time": "2023-06-26T17:28:24.795364",
     "exception": false,
     "start_time": "2023-06-26T17:28:24.301093",
     "status": "completed"
    },
    "tags": []
   },
   "outputs": [],
   "source": [
    "#Importing datasets\n",
    "train = pd.read_csv('/kaggle/input/playground-series-s3e17/train.csv')\n",
    "test = pd.read_csv('/kaggle/input/playground-series-s3e17/test.csv')\n"
   ]
  },
  {
   "cell_type": "code",
   "execution_count": 3,
   "id": "2cfd52e3",
   "metadata": {
    "execution": {
     "iopub.execute_input": "2023-06-26T17:28:24.805223Z",
     "iopub.status.busy": "2023-06-26T17:28:24.804425Z",
     "iopub.status.idle": "2023-06-26T17:28:24.903264Z",
     "shell.execute_reply": "2023-06-26T17:28:24.902056Z"
    },
    "papermill": {
     "duration": 0.106798,
     "end_time": "2023-06-26T17:28:24.906125",
     "exception": false,
     "start_time": "2023-06-26T17:28:24.799327",
     "status": "completed"
    },
    "tags": []
   },
   "outputs": [
    {
     "name": "stdout",
     "output_type": "stream",
     "text": [
      "id                         0\n",
      "Product ID                 0\n",
      "Type                       0\n",
      "Air temperature [K]        0\n",
      "Process temperature [K]    0\n",
      "Rotational speed [rpm]     0\n",
      "Torque [Nm]                0\n",
      "Tool wear [min]            0\n",
      "Machine failure            0\n",
      "TWF                        0\n",
      "HDF                        0\n",
      "PWF                        0\n",
      "OSF                        0\n",
      "RNF                        0\n",
      "dtype: int64\n"
     ]
    }
   ],
   "source": [
    "print(train.isnull().sum())"
   ]
  },
  {
   "cell_type": "code",
   "execution_count": 4,
   "id": "cc8817ee",
   "metadata": {
    "execution": {
     "iopub.execute_input": "2023-06-26T17:28:24.916048Z",
     "iopub.status.busy": "2023-06-26T17:28:24.915643Z",
     "iopub.status.idle": "2023-06-26T17:28:58.262460Z",
     "shell.execute_reply": "2023-06-26T17:28:58.261242Z"
    },
    "papermill": {
     "duration": 33.355118,
     "end_time": "2023-06-26T17:28:58.265415",
     "exception": false,
     "start_time": "2023-06-26T17:28:24.910297",
     "status": "completed"
    },
    "tags": []
   },
   "outputs": [],
   "source": [
    "# Concentration datasets\n",
    "combined = pd.concat([train, test], sort=False)\n",
    "\n",
    "# One-hot encoding procedure on concentrated dataset\n",
    "combined = pd.get_dummies(combined)\n",
    "\n",
    "# Seperating datasets\n",
    "train = combined[combined['Machine failure'].notna()]\n",
    "test = combined[combined['Machine failure'].isna()].drop('Machine failure', axis=1)\n",
    "\n",
    "# Removing \"<\", \">\", \"]\" , \"[\" characters\n",
    "train.columns = train.columns.str.replace('[<,>,\\,,\\[, \\]]', '', regex=True)\n",
    "test.columns = test.columns.str.replace('[<,>,\\,,\\[, \\]]', '', regex=True)\n"
   ]
  },
  {
   "cell_type": "code",
   "execution_count": 5,
   "id": "b44bcf29",
   "metadata": {
    "execution": {
     "iopub.execute_input": "2023-06-26T17:28:58.275332Z",
     "iopub.status.busy": "2023-06-26T17:28:58.274890Z",
     "iopub.status.idle": "2023-06-26T17:28:58.281542Z",
     "shell.execute_reply": "2023-06-26T17:28:58.280274Z"
    },
    "papermill": {
     "duration": 0.014412,
     "end_time": "2023-06-26T17:28:58.283993",
     "exception": false,
     "start_time": "2023-06-26T17:28:58.269581",
     "status": "completed"
    },
    "tags": []
   },
   "outputs": [
    {
     "name": "stdout",
     "output_type": "stream",
     "text": [
      "Index(['id', 'AirtemperatureK', 'ProcesstemperatureK', 'Rotationalspeedrpm',\n",
      "       'TorqueNm', 'Toolwearmin', 'Machinefailure', 'TWF', 'HDF', 'PWF',\n",
      "       ...\n",
      "       'ProductID_M24846', 'ProductID_M24847', 'ProductID_M24849',\n",
      "       'ProductID_M24851', 'ProductID_M24855', 'ProductID_M24857',\n",
      "       'ProductID_M24859', 'Type_H', 'Type_L', 'Type_M'],\n",
      "      dtype='object', length=10010)\n"
     ]
    }
   ],
   "source": [
    "print(train.columns)\n"
   ]
  },
  {
   "cell_type": "code",
   "execution_count": 6,
   "id": "72badf97",
   "metadata": {
    "execution": {
     "iopub.execute_input": "2023-06-26T17:28:58.294131Z",
     "iopub.status.busy": "2023-06-26T17:28:58.293734Z",
     "iopub.status.idle": "2023-06-26T17:28:58.591608Z",
     "shell.execute_reply": "2023-06-26T17:28:58.590694Z"
    },
    "papermill": {
     "duration": 0.305483,
     "end_time": "2023-06-26T17:28:58.593920",
     "exception": false,
     "start_time": "2023-06-26T17:28:58.288437",
     "status": "completed"
    },
    "tags": []
   },
   "outputs": [
    {
     "data": {
      "image/png": "[encoded data removed]",
      "text/plain": [
       "<Figure size 640x480 with 1 Axes>"
      ]
     },
     "metadata": {},
     "output_type": "display_data"
    }
   ],
   "source": [
    "# Class distribution plot\n",
    "sns.countplot(x='Machinefailure', data=train)\n",
    "plt.xlabel('Machinefailure')\n",
    "plt.ylabel('Count')\n",
    "plt.title('Class Distribution')\n",
    "plt.show()"
   ]
  },
  {
   "cell_type": "code",
   "execution_count": 7,
   "id": "d9623deb",
   "metadata": {
    "execution": {
     "iopub.execute_input": "2023-06-26T17:28:58.607486Z",
     "iopub.status.busy": "2023-06-26T17:28:58.606831Z",
     "iopub.status.idle": "2023-06-26T18:06:00.124606Z",
     "shell.execute_reply": "2023-06-26T18:06:00.122917Z"
    },
    "papermill": {
     "duration": 2221.533738,
     "end_time": "2023-06-26T18:06:00.132437",
     "exception": false,
     "start_time": "2023-06-26T17:28:58.598699",
     "status": "completed"
    },
    "tags": []
   },
   "outputs": [
    {
     "data": {
      "text/html": [
       "<style>#sk-container-id-1 {color: black;background-color: white;}#sk-container-id-1 pre{padding: 0;}#sk-container-id-1 div.sk-toggleable {background-color: white;}#sk-container-id-1 label.sk-toggleable__label {cursor: pointer;display: block;width: 100%;margin-bottom: 0;padding: 0.3em;box-sizing: border-box;text-align: center;}#sk-container-id-1 label.sk-toggleable__label-arrow:before {content: \"▸\";float: left;margin-right: 0.25em;color: #696969;}#sk-container-id-1 label.sk-toggleable__label-arrow:hover:before {color: black;}#sk-container-id-1 div.sk-estimator:hover label.sk-toggleable__label-arrow:before {color: black;}#sk-container-id-1 div.sk-toggleable__content {max-height: 0;max-width: 0;overflow: hidden;text-align: left;background-color: #f0f8ff;}#sk-container-id-1 div.sk-toggleable__content pre {margin: 0.2em;color: black;border-radius: 0.25em;background-color: #f0f8ff;}#sk-container-id-1 input.sk-toggleable__control:checked~div.sk-toggleable__content {max-height: 200px;max-width: 100%;overflow: auto;}#sk-container-id-1 input.sk-toggleable__control:checked~label.sk-toggleable__label-arrow:before {content: \"▾\";}#sk-container-id-1 div.sk-estimator input.sk-toggleable__control:checked~label.sk-toggleable__label {background-color: #d4ebff;}#sk-container-id-1 div.sk-label input.sk-toggleable__control:checked~label.sk-toggleable__label {background-color: #d4ebff;}#sk-container-id-1 input.sk-hidden--visually {border: 0;clip: rect(1px 1px 1px 1px);clip: rect(1px, 1px, 1px, 1px);height: 1px;margin: -1px;overflow: hidden;padding: 0;position: absolute;width: 1px;}#sk-container-id-1 div.sk-estimator {font-family: monospace;background-color: #f0f8ff;border: 1px dotted black;border-radius: 0.25em;box-sizing: border-box;margin-bottom: 0.5em;}#sk-container-id-1 div.sk-estimator:hover {background-color: #d4ebff;}#sk-container-id-1 div.sk-parallel-item::after {content: \"\";width: 100%;border-bottom: 1px solid gray;flex-grow: 1;}#sk-container-id-1 div.sk-label:hover label.sk-toggleable__label {background-color: #d4ebff;}#sk-container-id-1 div.sk-serial::before {content: \"\";position: absolute;border-left: 1px solid gray;box-sizing: border-box;top: 0;bottom: 0;left: 50%;z-index: 0;}#sk-container-id-1 div.sk-serial {display: flex;flex-direction: column;align-items: center;background-color: white;padding-right: 0.2em;padding-left: 0.2em;position: relative;}#sk-container-id-1 div.sk-item {position: relative;z-index: 1;}#sk-container-id-1 div.sk-parallel {display: flex;align-items: stretch;justify-content: center;background-color: white;position: relative;}#sk-container-id-1 div.sk-item::before, #sk-container-id-1 div.sk-parallel-item::before {content: \"\";position: absolute;border-left: 1px solid gray;box-sizing: border-box;top: 0;bottom: 0;left: 50%;z-index: -1;}#sk-container-id-1 div.sk-parallel-item {display: flex;flex-direction: column;z-index: 1;position: relative;background-color: white;}#sk-container-id-1 div.sk-parallel-item:first-child::after {align-self: flex-end;width: 50%;}#sk-container-id-1 div.sk-parallel-item:last-child::after {align-self: flex-start;width: 50%;}#sk-container-id-1 div.sk-parallel-item:only-child::after {width: 0;}#sk-container-id-1 div.sk-dashed-wrapped {border: 1px dashed gray;margin: 0 0.4em 0.5em 0.4em;box-sizing: border-box;padding-bottom: 0.4em;background-color: white;}#sk-container-id-1 div.sk-label label {font-family: monospace;font-weight: bold;display: inline-block;line-height: 1.2em;}#sk-container-id-1 div.sk-label-container {text-align: center;}#sk-container-id-1 div.sk-container {/* jupyter's `normalize.less` sets `[hidden] { display: none; }` but bootstrap.min.css set `[hidden] { display: none !important; }` so we also need the `!important` here to be able to override the default hidden behavior on the sphinx rendered scikit-learn.org. See: https://github.com/scikit-learn/scikit-learn/issues/21755 */display: inline-block !important;position: relative;}#sk-container-id-1 div.sk-text-repr-fallback {display: none;}</style><div id=\"sk-container-id-1\" class=\"sk-top-container\"><div class=\"sk-text-repr-fallback\"><pre>XGBClassifier(base_score=None, booster=None, callbacks=None,\n",
       "              colsample_bylevel=None, colsample_bynode=None,\n",
       "              colsample_bytree=None, early_stopping_rounds=None,\n",
       "              enable_categorical=False, eval_metric=None, feature_types=None,\n",
       "              gamma=None, gpu_id=None, grow_policy=None, importance_type=None,\n",
       "              interaction_constraints=None, learning_rate=None, max_bin=None,\n",
       "              max_cat_threshold=None, max_cat_to_onehot=None,\n",
       "              max_delta_step=None, max_depth=None, max_leaves=None,\n",
       "              min_child_weight=None, missing=nan, monotone_constraints=None,\n",
       "              n_estimators=100, n_jobs=None, num_parallel_tree=None,\n",
       "              predictor=None, random_state=None, ...)</pre><b>In a Jupyter environment, please rerun this cell to show the HTML representation or trust the notebook. <br />On GitHub, the HTML representation is unable to render, please try loading this page with nbviewer.org.</b></div><div class=\"sk-container\" hidden><div class=\"sk-item\"><div class=\"sk-estimator sk-toggleable\"><input class=\"sk-toggleable__control sk-hidden--visually\" id=\"sk-estimator-id-1\" type=\"checkbox\" checked><label for=\"sk-estimator-id-1\" class=\"sk-toggleable__label sk-toggleable__label-arrow\">XGBClassifier</label><div class=\"sk-toggleable__content\"><pre>XGBClassifier(base_score=None, booster=None, callbacks=None,\n",
       "              colsample_bylevel=None, colsample_bynode=None,\n",
       "              colsample_bytree=None, early_stopping_rounds=None,\n",
       "              enable_categorical=False, eval_metric=None, feature_types=None,\n",
       "              gamma=None, gpu_id=None, grow_policy=None, importance_type=None,\n",
       "              interaction_constraints=None, learning_rate=None, max_bin=None,\n",
       "              max_cat_threshold=None, max_cat_to_onehot=None,\n",
       "              max_delta_step=None, max_depth=None, max_leaves=None,\n",
       "              min_child_weight=None, missing=nan, monotone_constraints=None,\n",
       "              n_estimators=100, n_jobs=None, num_parallel_tree=None,\n",
       "              predictor=None, random_state=None, ...)</pre></div></div></div></div></div>"
      ],
      "text/plain": [
       "XGBClassifier(base_score=None, booster=None, callbacks=None,\n",
       "              colsample_bylevel=None, colsample_bynode=None,\n",
       "              colsample_bytree=None, early_stopping_rounds=None,\n",
       "              enable_categorical=False, eval_metric=None, feature_types=None,\n",
       "              gamma=None, gpu_id=None, grow_policy=None, importance_type=None,\n",
       "              interaction_constraints=None, learning_rate=None, max_bin=None,\n",
       "              max_cat_threshold=None, max_cat_to_onehot=None,\n",
       "              max_delta_step=None, max_depth=None, max_leaves=None,\n",
       "              min_child_weight=None, missing=nan, monotone_constraints=None,\n",
       "              n_estimators=100, n_jobs=None, num_parallel_tree=None,\n",
       "              predictor=None, random_state=None, ...)"
      ]
     },
     "execution_count": 7,
     "metadata": {},
     "output_type": "execute_result"
    }
   ],
   "source": [
    "# Separate target variable and properties\n",
    "X = train.drop(['id', 'Machinefailure'], axis=1)\n",
    "y = train['Machinefailure']\n",
    "\n",
    "# Seperating dataset into test and train\n",
    "X_train, X_val, y_train, y_val = train_test_split(X, y, test_size=0.2, random_state=42)\n",
    "\n",
    "# Model creation and training\n",
    "model = XGBClassifier()\n",
    "model.fit(X_train, y_train)"
   ]
  },
  {
   "cell_type": "code",
   "execution_count": 8,
   "id": "f1ea591d",
   "metadata": {
    "execution": {
     "iopub.execute_input": "2023-06-26T18:06:00.144905Z",
     "iopub.status.busy": "2023-06-26T18:06:00.144503Z",
     "iopub.status.idle": "2023-06-26T18:06:04.100920Z",
     "shell.execute_reply": "2023-06-26T18:06:04.099512Z"
    },
    "papermill": {
     "duration": 3.965732,
     "end_time": "2023-06-26T18:06:04.103412",
     "exception": false,
     "start_time": "2023-06-26T18:06:00.137680",
     "status": "completed"
    },
    "tags": []
   },
   "outputs": [
    {
     "name": "stdout",
     "output_type": "stream",
     "text": [
      "Validation ROC AUC Score: 0.959998976140328\n"
     ]
    }
   ],
   "source": [
    "# Predict on validation set and calculate ROC AUC score\n",
    "y_val_pred = model.predict_proba(X_val)[:, 1]\n",
    "roc_auc = roc_auc_score(y_val, y_val_pred)\n",
    "print(f'Validation ROC AUC Score: {roc_auc}')"
   ]
  },
  {
   "cell_type": "code",
   "execution_count": 9,
   "id": "18f18e6a",
   "metadata": {
    "execution": {
     "iopub.execute_input": "2023-06-26T18:06:04.115532Z",
     "iopub.status.busy": "2023-06-26T18:06:04.115125Z",
     "iopub.status.idle": "2023-06-26T18:06:22.919973Z",
     "shell.execute_reply": "2023-06-26T18:06:22.918656Z"
    },
    "papermill": {
     "duration": 18.814917,
     "end_time": "2023-06-26T18:06:22.923614",
     "exception": false,
     "start_time": "2023-06-26T18:06:04.108697",
     "status": "completed"
    },
    "tags": []
   },
   "outputs": [
    {
     "name": "stderr",
     "output_type": "stream",
     "text": [
      "/tmp/ipykernel_20/2658126869.py:6: SettingWithCopyWarning: \n",
      "A value is trying to be set on a copy of a slice from a DataFrame\n",
      "\n",
      "See the caveats in the documentation: https://pandas.pydata.org/pandas-docs/stable/user_guide/indexing.html#returning-a-view-versus-a-copy\n",
      "  submission.rename(columns={\"Machinefailure\":\"Machine failure\"},inplace=True)\n"
     ]
    }
   ],
   "source": [
    "# Prediction on test set\n",
    "test['Machinefailure'] = model.predict_proba(test.drop('id', axis=1))[:, 1]\n",
    "\n",
    "# Save results\n",
    "submission = test[['id', 'Machinefailure']]\n",
    "submission.rename(columns={\"Machinefailure\":\"Machine failure\"},inplace=True)\n",
    "submission.to_csv('submission.csv', index=False)"
   ]
  }
 ],
 "metadata": {
  "kernelspec": {
   "display_name": "Python 3",
   "language": "python",
   "name": "python3"
  },
  "language_info": {
   "codemirror_mode": {
    "name": "ipython",
    "version": 3
   },
   "file_extension": ".py",
   "mimetype": "text/x-python",
   "name": "python",
   "nbconvert_exporter": "python",
   "pygments_lexer": "ipython3",
   "version": "3.10.10"
  },
  "papermill": {
   "default_parameters": {},
   "duration": 2293.558691,
   "end_time": "2023-06-26T18:06:24.564792",
   "environment_variables": {},
   "exception": null,
   "input_path": "__notebook__.ipynb",
   "output_path": "__notebook__.ipynb",
   "parameters": {},
   "start_time": "2023-06-26T17:28:11.006101",
   "version": "2.4.0"
  }
 },
 "nbformat": 4,
 "nbformat_minor": 5
}
